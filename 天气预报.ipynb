{
 "cells": [
  {
   "cell_type": "code",
   "execution_count": null,
   "metadata": {},
   "outputs": [],
   "source": [
    "#导入模块\n",
    "import json, sys, requests\n",
    " \n",
    "#输入地点\n",
    "weatherPlace = input(\"请输入天气地点：\")\n",
    "\n",
    "if weatherPlace == 'E' or weatherPlace == 'e':\n",
    "    sys.exit(0);    \n",
    "#将链接定义为一个字符串\n",
    "weatherJsonUrl = \"http://wthrcdn.etouch.cn/weather_mini?city=%s\" % (weatherPlace)\n",
    "#获取并下载页面，其内容会保存在respons.text成员变量里面\n",
    "response = requests.get(weatherJsonUrl)\n",
    "try:\n",
    "    response.raise_for_status()\n",
    "except:\n",
    "    print(\"网址请求出错\")\n",
    "    \n",
    "#将json文件格式导入成python的格式\n",
    "weatherData = json.loads(response.text)\n",
    " \n",
    "#以好看的形式打印字典与列表表格\n",
    "#import pprint\n",
    "#pprint.pprint(weatherData)\n",
    " \n",
    "w = weatherData['data']\n",
    "print(\"地点：%s\" % w['city'])\n",
    " \n",
    "#日期\n",
    "date_a = []\n",
    "#最高温与最低温\n",
    "highTemp = []\n",
    "lowTemp = []\n",
    "#天气\n",
    "weather = []\n",
    "#日期\n",
    "import datetime\n",
    "today=datetime.date.today()\n",
    "date_q=input(\"请输入月\")\n",
    "date_e=input(\"请输入日\")\n",
    "date_w='2019'+'-'+date_q+'-'+date_e\n",
    "date_r = datetime.datetime.strptime(date_w,'%Y-%m-%d')\n",
    "date_today = datetime.datetime.strptime(str(today),'%Y-%m-%d')\n",
    "delta_days=date_r-date_today\n",
    "i=int(delta_days.days)\n",
    "for i in range(len(w['forecast'])):\n",
    "    date_a.append(w['forecast'][i]['date'])\n",
    "    highTemp.append(w['forecast'][i]['high'])\n",
    "    lowTemp.append(w['forecast'][i]['low'])\n",
    "    weather.append(w['forecast'][i]['type'])\n",
    "#输出\n",
    "print(\"日期：\" + date_a[i])\n",
    "print(\"\\t温度：最\" + lowTemp[i] + '℃~最' + highTemp[i] + '℃')\n",
    "print(\"\\t天气：\" + weather[i])\n",
    "print(\"\")\n",
    "    \n",
    "print(\"\\n今日着装：\" + w['ganmao'])\n",
    "print(\"当前温度：\" + w['wendu'] + \"℃\")"
   ]
  },
  {
   "cell_type": "code",
   "execution_count": null,
   "metadata": {},
   "outputs": [],
   "source": []
  }
 ],
 "metadata": {
  "kernelspec": {
   "display_name": "Python 3",
   "language": "python",
   "name": "python3"
  },
  "language_info": {
   "codemirror_mode": {
    "name": "ipython",
    "version": 3
   },
   "file_extension": ".py",
   "mimetype": "text/x-python",
   "name": "python",
   "nbconvert_exporter": "python",
   "pygments_lexer": "ipython3",
   "version": "3.7.1"
  }
 },
 "nbformat": 4,
 "nbformat_minor": 2
}
